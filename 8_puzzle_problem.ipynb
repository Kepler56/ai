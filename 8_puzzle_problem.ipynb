{
 "cells": [
  {
   "cell_type": "markdown",
   "metadata": {},
   "source": [
    "<h2 align=\"left\"><font color='red'> 8-Puzzle Problem </font></a></h2>  \n",
    "\n",
    "![](https://ece.uwaterloo.ca/~dwharder/aads/Algorithms/N_puzzles/images/puz3.png)\n",
    "\n",
    "&emsp; &emsp; **<font color='blue'> Start state</front>**        &emsp;&emsp; &emsp;&emsp;&emsp;&emsp;&emsp;&emsp;      **<font color='green'> Goal state</front>**\n",
    "\n",
    "<font color='black'> </front>\n",
    "<b>This was a task given by the school where we had to complete the following tasks:\n",
    "</b>\n",
    "\n",
    "The 8-puzzle is a sliding puzzle that consists of a frame of numbered square tiles from 1 to 8 in random order with one tile missing. The objective of the puzzle is to place the tiles in order by making sliding moves that use the empty space.\n",
    "\n",
    "A sliding tile puzzle where you can swap the blank with an adjacent piece, trying to reach a goal configuration. The cells are numbered 0 to 8, starting at the top left and going row by row left to right. The pieces are numebred 1 to 8, with 0 representing the blank. \n",
    "\n",
    "Note that this puzzle also exists in other sizes, for example 3-puzzle (2x2), 15-puzzle (4x4), 24-puzzle (5x5), etc.\n",
    "\n",
    " 1. <font color='darkred'>Formulate the 8-puzzle problem (implement a class EightPuzzle)</front>\n",
    " 2. <font color='darkred'>Implement uniform cost search for this example</front>\n",
    " 3. <font color='darkred'>Implement two heuristics for the problem (misplaced tiles and manhattan distance)</front>\n",
    " 4. <font color='darkred'>Implement a greedy search that reaches the goal state</front>\n",
    " 5. <font color='darkred'>Implement A* search considering two different heuristics</front>"
   ]
  },
  {
   "cell_type": "markdown",
   "metadata": {},
   "source": [
    "1. <font color='darkred'>Formulate the 8-puzzle problem (implement a class EightPuzzle)</front>"
   ]
  },
  {
   "cell_type": "code",
   "execution_count": 22,
   "metadata": {},
   "outputs": [],
   "source": [
    "import random\n",
    "from search import *\n",
    "from Complementary_notebook import *\n",
    "from FunUtil import *"
   ]
  },
  {
   "cell_type": "code",
   "execution_count": 23,
   "metadata": {},
   "outputs": [],
   "source": [
    "class EightPuzzle:\n",
    "    \"\"\"\n",
    "        We are creating a class EightPuzzle to formulate the 8-puzzle problem.\n",
    "    \"\"\"\n",
    "\n",
    "    \"\"\" \n",
    "        In our case, a state is represented by a 3x3 matrix with values ranging from 1-8 placed inside the matrix and an \n",
    "        empty space represented by a 0. The initial state is a matrix 3x3 where the values and empty space are randomly \n",
    "        placed inside the matrix. The goal state is when the values are correctly placed. \n",
    "        Initial State:\n",
    "        [\n",
    "            [5, 2, 7],\n",
    "            [8, 4, 0],\n",
    "            [1, 3, 6]\n",
    "        ]\n",
    "\n",
    "        Goal State (this is an example of a goal state):\n",
    "        [\n",
    "            [1, 2, 3],\n",
    "            [4, 5, 6],\n",
    "            [7, 8, 0]\n",
    "        ]\n",
    "    \"\"\"\n",
    "    def __init__(self, initial, goal = None):\n",
    "        self.initial = initial\n",
    "        self.goal = goal\n",
    "\n",
    "    \"\"\"\n",
    "        An action is when the empty tile (value) slides from one spot (index) to another. There can be multiple ways of moving \n",
    "        the empty tile (value) based on its position in the matrix. You can slide to the left, right, up and down. This method\n",
    "        will return the set of actions that can be executed in the given state.\n",
    "    \"\"\"\n",
    "    def actions(self, state):\n",
    "        actions = []\n",
    "        for i in range(3):\n",
    "            for j in range(3):\n",
    "                if state[i][j] == 0:\n",
    "                    if i == 0 and j == 0:\n",
    "                        actions.append('right')\n",
    "                        actions.append('down')\n",
    "                    elif i == 0 and j == 1:\n",
    "                        actions.append('left')\n",
    "                        actions.append('right')\n",
    "                        actions.append('down')\n",
    "                    elif i == 0 and j == 2:\n",
    "                        actions.append('left')\n",
    "                        actions.append('down')\n",
    "                    elif i == 1 and j == 0:\n",
    "                        actions.append('up')\n",
    "                        actions.append('right')\n",
    "                        actions.append('down')\n",
    "                    elif i == 1 and j == 1:\n",
    "                        actions.append('up')\n",
    "                        actions.append('left')\n",
    "                        actions.append('right')\n",
    "                        actions.append('down')\n",
    "                    elif i == 1 and j == 2:\n",
    "                        actions.append('up')\n",
    "                        actions.append('left')\n",
    "                        actions.append('down')\n",
    "                    elif i == 2 and j == 0:\n",
    "                        actions.append('up')\n",
    "                        actions.append('right')\n",
    "                    elif i == 2 and j == 1:\n",
    "                        actions.append('up')\n",
    "                        actions.append('left')\n",
    "                        actions.append('right')\n",
    "                    elif i == 2 and j == 2:\n",
    "                        actions.append('up')\n",
    "                        actions.append('left')\n",
    "\n",
    "        return actions\n",
    "    \n",
    "    \"\"\"\n",
    "        This method will return the state that results from executing the given action in the given state.\n",
    "    \"\"\"\n",
    "    def result(self, state, action):\n",
    "        new_state = [row[:] for row in state]\n",
    "        for i in range(3):\n",
    "            for j in range(3):\n",
    "                if state[i][j] == 0:\n",
    "                    if action == 'up':\n",
    "                        new_state[i][j] = new_state[i - 1][j]\n",
    "                        new_state[i - 1][j] = 0\n",
    "                    elif action == 'down':\n",
    "                        new_state[i][j] = new_state[i + 1][j]\n",
    "                        new_state[i + 1][j] = 0\n",
    "                    elif action == 'left':\n",
    "                        new_state[i][j] = new_state[i][j - 1]\n",
    "                        new_state[i][j - 1] = 0\n",
    "                    elif action == 'right':\n",
    "                        new_state[i][j] = new_state[i][j + 1]\n",
    "                        new_state[i][j + 1] = 0\n",
    "        return new_state\n",
    "\n",
    "    \"\"\"\n",
    "        This method will return True if the state is a goal state, and False otherwise.\n",
    "    \"\"\"\n",
    "    def goal_test(self, state):\n",
    "        return state == self.goal\n",
    "\n",
    "    \"\"\"\n",
    "        This method will return the cost of a solution path that arrives at state2 from state1 via action, assuming cost 1\n",
    "        for each step in the path.\n",
    "    \"\"\"\n",
    "    def path_cost(self, c, state1, action, state2):\n",
    "        return c + 1\n",
    "\n",
    "    \"\"\"\n",
    "        This method will return a random state.\n",
    "    \"\"\"\n",
    "    def random_state(self):\n",
    "        state = [row[:] for row in self.initial]\n",
    "        actions = []\n",
    "        for i in range(100):\n",
    "            actions = self.actions(state)\n",
    "            action = random.choice(actions)\n",
    "            state = self.result(state, action)\n",
    "        return state\n",
    "\n",
    "    def display(self, state):\n",
    "        for i in range(3):\n",
    "            for j in range(3):\n",
    "                print(state[i][j], end = ' ')\n",
    "            print()\n",
    "        print()"
   ]
  },
  {
   "cell_type": "code",
   "execution_count": 24,
   "metadata": {},
   "outputs": [
    {
     "name": "stdout",
     "output_type": "stream",
     "text": [
      "7 1 2 \n",
      "8 0 3 \n",
      "5 6 4 \n",
      "\n",
      "1 2 3 \n",
      "4 0 6 \n",
      "7 5 8 \n",
      "\n"
     ]
    }
   ],
   "source": [
    "array = [\n",
    "    [1,2,3],\n",
    "    [4,5,6],\n",
    "    [7,8,0] \n",
    "]\n",
    "\n",
    "\n",
    "problem = EightPuzzle(array)\n",
    "problem.initial = problem.random_state()\n",
    "problem.goal = [\n",
    "    [1,2,3],\n",
    "    [4,0,6],\n",
    "    [7,5,8] \n",
    "]\n",
    "\n",
    "problem.display(problem.initial)\n",
    "problem.display(problem.goal)"
   ]
  },
  {
   "cell_type": "markdown",
   "metadata": {},
   "source": [
    " 2. <font color='darkred'>Implement uniform cost search for this example</front>"
   ]
  },
  {
   "cell_type": "code",
   "execution_count": 25,
   "metadata": {},
   "outputs": [],
   "source": [
    "\"\"\"\n",
    "    We created these 2 methods because the uniform cost search algorithm the explored set only accepts hashable objects.\n",
    "\"\"\"\n",
    "\n",
    "# Create a function that converts the list to a string\n",
    "def convertToString(list):\n",
    "    string = \"\"\n",
    "    for i in range(3):\n",
    "        for j in range(3):\n",
    "            string += str(list[i][j])\n",
    "    return string"
   ]
  },
  {
   "cell_type": "code",
   "execution_count": 26,
   "metadata": {},
   "outputs": [],
   "source": [
    "def best_first_graph_search(problem, f, display=False):\n",
    "    \"\"\"Search the nodes with the lowest f scores first.\n",
    "    You specify the function f(node) that you want to minimize; for example,\n",
    "    if f is a heuristic estimate to the goal, then we have greedy best\n",
    "    first search; if f is node.depth then we have breadth-first search.\n",
    "    There is a subtlety: the line \"f = memoize(f, 'f')\" means that the f\n",
    "    values will be cached on the nodes as they are computed. So after doing\n",
    "    a best first search you can examine the f values of the path returned.\"\"\"\n",
    "    f = memoize(f, 'f')\n",
    "    node = Node(problem.initial)\n",
    "    frontier = PriorityQueue('min', f)\n",
    "    frontier.append(node)\n",
    "    explored = set()\n",
    "    while frontier:\n",
    "        node = frontier.pop()\n",
    "        if problem.goal_test(node.state):\n",
    "            if display:\n",
    "                print(len(explored), \"paths have been expanded and\", len(frontier), \"paths remain in the frontier\")\n",
    "            return node\n",
    "        explored.add(convertToString(node.state))\n",
    "        for child in node.expand(problem):\n",
    "            if convertToString(child.state) not in explored and child not in frontier:\n",
    "                frontier.append(child)\n",
    "            elif child in frontier:\n",
    "                if f(child) < frontier[child]:\n",
    "                    del frontier[child]\n",
    "                    frontier.append(child)\n",
    "    return None\n",
    "\n",
    "\n",
    "def uniform_cost_search(problem, display=False):\n",
    "    return best_first_graph_search(problem, lambda node: node.path_cost, display)"
   ]
  },
  {
   "cell_type": "code",
   "execution_count": 27,
   "metadata": {},
   "outputs": [],
   "source": [
    "# Implement uniform cost search from the search.py file\n",
    "ucs = uniform_cost_search(problem)"
   ]
  },
  {
   "cell_type": "code",
   "execution_count": 28,
   "metadata": {},
   "outputs": [
    {
     "data": {
      "text/plain": [
       "<Node [[1, 2, 3], [4, 0, 6], [7, 5, 8]]>"
      ]
     },
     "execution_count": 28,
     "metadata": {},
     "output_type": "execute_result"
    }
   ],
   "source": [
    "# We can observe that the algorithm reached the goal state\n",
    "ucs"
   ]
  },
  {
   "cell_type": "markdown",
   "metadata": {},
   "source": [
    " 3. <font color='darkred'>Implement two heuristics for the problem (misplaced tiles and manhattan distance)</front>"
   ]
  },
  {
   "cell_type": "code",
   "execution_count": 29,
   "metadata": {},
   "outputs": [],
   "source": [
    "# Implement a function to calculate the misplaced tiles heuristic\n",
    "# Implement a function to calculate the misplaced tiles heuristic\n",
    "def misplaced_tiles(node):\n",
    "    goal_state = problem.goal # Goal state configuration\n",
    "    misplaced = 0\n",
    "    for i in range(len(node.state)):\n",
    "        for j in range(len(node.state[i])):\n",
    "            if node.state[i][j] != goal_state[i][j]:\n",
    "                misplaced += 1\n",
    "    return misplaced"
   ]
  },
  {
   "cell_type": "code",
   "execution_count": 30,
   "metadata": {},
   "outputs": [],
   "source": [
    "# Implement a function to calculate the manhattan distance heuristic\n",
    "def manhattan_distance(node):\n",
    "    goal_state = problem.goal  # Goal state configuration\n",
    "    distance = 0\n",
    "    for i in range(len(node.state)):\n",
    "        for j in range(len(node.state[i])):\n",
    "            if node.state[i][j] != goal_state[i][j] and node.state[i][j] != 0:\n",
    "                num = node.state[i][j]\n",
    "                goal_row, goal_col = divmod(num - 1, 3)\n",
    "                distance += abs(i - goal_row) + abs(j - goal_col)\n",
    "    return distance"
   ]
  },
  {
   "cell_type": "markdown",
   "metadata": {},
   "source": [
    " 4. <font color='darkred'>Implement a greedy search that reaches the goal state</front>"
   ]
  },
  {
   "cell_type": "code",
   "execution_count": 31,
   "metadata": {},
   "outputs": [],
   "source": [
    "#greedy_best_first_graph_search = best_first_graph_search\n",
    "\n",
    "def greedy_best_first_graph_search(problem, h=None, display=False):\n",
    "    \"\"\" best-first graph search with f(n) = h(n).\n",
    "    You need to specify the h function when you call best-first graph search, or\n",
    "    else in your Problem subclass.\"\"\"\n",
    "    h = memoize(h or problem.h, 'h')\n",
    "    return best_first_graph_search(problem, lambda n: h(n), display)"
   ]
  },
  {
   "cell_type": "code",
   "execution_count": 32,
   "metadata": {},
   "outputs": [],
   "source": [
    "# Greedy search that reaches the goal state\n",
    "greedy = best_first_graph_search(problem, misplaced_tiles)"
   ]
  },
  {
   "cell_type": "code",
   "execution_count": 33,
   "metadata": {},
   "outputs": [
    {
     "data": {
      "text/plain": [
       "<Node [[1, 2, 3], [4, 0, 6], [7, 5, 8]]>"
      ]
     },
     "execution_count": 33,
     "metadata": {},
     "output_type": "execute_result"
    }
   ],
   "source": [
    "greedy"
   ]
  },
  {
   "cell_type": "markdown",
   "metadata": {},
   "source": [
    " 5. <font color='darkred'>Implement A* search considering two different heuristics</front>"
   ]
  },
  {
   "cell_type": "code",
   "execution_count": 34,
   "metadata": {},
   "outputs": [],
   "source": [
    "def astar_search(problem, h=None, display=False):\n",
    "    \"\"\"A* search is best-first graph search with f(n) = g(n)+h(n).\n",
    "    You need to specify the h function when you call astar_search, or\n",
    "    else in your Problem subclass.\"\"\"\n",
    "    h = memoize(h or problem.h, 'h')\n",
    "    return best_first_graph_search(problem, lambda n: n.path_cost + h(n), display)\n"
   ]
  },
  {
   "cell_type": "code",
   "execution_count": 35,
   "metadata": {},
   "outputs": [
    {
     "name": "stdout",
     "output_type": "stream",
     "text": [
      "Misplaced tiles heuristic\n"
     ]
    },
    {
     "data": {
      "text/plain": [
       "<Node [[1, 2, 3], [4, 0, 6], [7, 5, 8]]>"
      ]
     },
     "execution_count": 35,
     "metadata": {},
     "output_type": "execute_result"
    }
   ],
   "source": [
    "# Hueristic 1: Misplaced tiles\n",
    "print(\"Misplaced tiles heuristic\")\n",
    "a_star_misplaced_tiles = astar_search(problem, misplaced_tiles)\n",
    "a_star_misplaced_tiles"
   ]
  },
  {
   "cell_type": "code",
   "execution_count": 36,
   "metadata": {},
   "outputs": [
    {
     "name": "stdout",
     "output_type": "stream",
     "text": [
      "Manhattan distance heuristic\n"
     ]
    },
    {
     "data": {
      "text/plain": [
       "<Node [[1, 2, 3], [4, 0, 6], [7, 5, 8]]>"
      ]
     },
     "execution_count": 36,
     "metadata": {},
     "output_type": "execute_result"
    }
   ],
   "source": [
    "# Heuristic 2: Manhattan distance\n",
    "print(\"Manhattan distance heuristic\")\n",
    "a_star_manhattan_distance = astar_search(problem, manhattan_distance)\n",
    "a_star_manhattan_distance"
   ]
  }
 ],
 "metadata": {
  "kernelspec": {
   "display_name": "Python 3",
   "language": "python",
   "name": "python3"
  },
  "language_info": {
   "codemirror_mode": {
    "name": "ipython",
    "version": 3
   },
   "file_extension": ".py",
   "mimetype": "text/x-python",
   "name": "python",
   "nbconvert_exporter": "python",
   "pygments_lexer": "ipython3",
   "version": "3.11.6"
  }
 },
 "nbformat": 4,
 "nbformat_minor": 2
}
